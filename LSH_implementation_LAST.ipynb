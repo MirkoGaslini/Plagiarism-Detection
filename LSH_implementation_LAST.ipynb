{
  "nbformat": 4,
  "nbformat_minor": 0,
  "metadata": {
    "colab": {
      "name": "LSH_implementation_LAST.ipynb",
      "provenance": [],
      "collapsed_sections": [
        "FTv1a1GlH9rm",
        "2fwm6ZtqL5R8",
        "DABdkEXzOB2w"
      ],
      "toc_visible": true
    },
    "kernelspec": {
      "name": "python3",
      "display_name": "Python 3"
    }
  },
  "cells": [
    {
      "cell_type": "markdown",
      "metadata": {
        "id": "RfbiTb34HPpP"
      },
      "source": [
        "Libraries"
      ]
    },
    {
      "cell_type": "code",
      "metadata": {
        "id": "5Uw5aPfzHFVU",
        "colab": {
          "base_uri": "https://localhost:8080/"
        },
        "outputId": "a7c7e7d7-8ac8-483b-9c1e-19cc9c33e21c"
      },
      "source": [
        "from __future__ import division\r\n",
        "from bisect import bisect_right\r\n",
        "from heapq import heappop, heappush\r\n",
        "from collections import defaultdict \r\n",
        "\r\n",
        "\r\n",
        "import string\r\n",
        "import math\r\n",
        "import os\r\n",
        "import re\r\n",
        "import random\r\n",
        "import time\r\n",
        "import binascii\r\n",
        "import csv\r\n",
        "import pandas as pd\r\n",
        "import matplotlib.pyplot as plt\r\n",
        "import re\r\n",
        "import math\r\n",
        "from itertools import chain\r\n",
        "from collections import Counter\r\n",
        "import nltk\r\n",
        "nltk.download('punkt')\r\n",
        "from nltk.util import ngrams # This is the ngram magic.\r\n",
        "from textblob import TextBlob\r\n",
        "import numpy as np\r\n"
      ],
      "execution_count": 1,
      "outputs": [
        {
          "output_type": "stream",
          "text": [
            "[nltk_data] Downloading package punkt to /root/nltk_data...\n",
            "[nltk_data]   Unzipping tokenizers/punkt.zip.\n"
          ],
          "name": "stdout"
        }
      ]
    },
    {
      "cell_type": "markdown",
      "metadata": {
        "id": "5018yVGgHWww"
      },
      "source": [
        "Open Dataset"
      ]
    },
    {
      "cell_type": "code",
      "metadata": {
        "id": "LUuKbO9JHX1_"
      },
      "source": [
        "def openDataset(dataFile):\r\n",
        "  documents = []\r\n",
        "  with open(dataFile) as csvDataFile:\r\n",
        "      csvReader = csv.reader(csvDataFile)\r\n",
        "      next(csvReader)\r\n",
        "      for row in csvReader:\r\n",
        "          documents.append(row)\r\n",
        "  csvDataFile.close()\r\n",
        "  return documents"
      ],
      "execution_count": 2,
      "outputs": []
    },
    {
      "cell_type": "markdown",
      "metadata": {
        "id": "FTv1a1GlH9rm"
      },
      "source": [
        "## Jaccard similarity - Ground truth"
      ]
    },
    {
      "cell_type": "code",
      "metadata": {
        "id": "Aa3QCEkf9Fv-"
      },
      "source": [
        "def pre_processing(word):\r\n",
        "  punctuations = '''!()-[]{};:'\"\\,<>./?@#$%^&*_~'''\r\n",
        "  word = word.lower()\r\n",
        "  char = word[len(word)-1]\r\n",
        "  no_punct = word\r\n",
        "  \r\n",
        "  # remove punctuation from the string\r\n",
        "  if char in punctuations:\r\n",
        "    no_punct = word[:-1]\r\n",
        "\r\n",
        "  return no_punct"
      ],
      "execution_count": 4,
      "outputs": []
    },
    {
      "cell_type": "code",
      "metadata": {
        "id": "jUuEyyJ8XFOt"
      },
      "source": [
        "sent_detector = nltk.data.load('tokenizers/punkt/english.pickle')\r\n",
        "\r\n",
        "def get_tuples_nosentences(txt):\r\n",
        "    if not txt: return None\r\n",
        "    ng = ngrams(re.sub(r'[^a-zA-Z0-9\\s]',' ', txt.lower()).split(),3)\r\n",
        "    return list(ng)\r\n",
        "    \r\n",
        "def jaccard_similarity(a, b):\r\n",
        "    a = set(a)\r\n",
        "    b = set(b)\r\n",
        "    return 1.0 * len(a&b)/len(a|b)"
      ],
      "execution_count": 5,
      "outputs": []
    },
    {
      "cell_type": "code",
      "metadata": {
        "id": "gO258u1TWlVz"
      },
      "source": [
        "def plotValues(list_weight_all):\r\n",
        "  plt.yscale('log', nonposy = 'clip')\r\n",
        "  plt.title('Number of documents in function of their similarity with each other')\r\n",
        "  plt.xlabel('Similarty between documents')\r\n",
        "  plt.ylabel('Number of documents')\r\n",
        "  plt.hist(list_weight_all, bins = [0,0.10,0.20,0.30,0.4,0.5,0.6,0.7,0.8,0.9,1])\r\n",
        "\r\n",
        "def shinglesDoc(documents):\r\n",
        "  list_text = [item[1] for item in documents]\r\n",
        "  shingles_documents = [get_tuples_nosentences(d) for d in list_text]\r\n",
        "  return shingles_documents\r\n",
        "  \r\n",
        "def createDataset(list_doc1,list_doc2,weights):\r\n",
        "  df = pd.DataFrame(columns=[\"Doc1\",\"Doc2\",\"Value\"])\r\n",
        "  df[\"Doc1\"] = list_doc1\r\n",
        "  df[\"Doc2\"] = list_doc2\r\n",
        "  df[\"Value\"] = weights\r\n",
        "  return df\r\n",
        "\r\n",
        "def doc_jaccard(preprocessed_documents):\r\n",
        "  i = 0\r\n",
        "  list_weight_all = []\r\n",
        "  list_doc1 = []\r\n",
        "  list_doc2 = []\r\n",
        "  weights = []\r\n",
        "\r\n",
        "  for  base_sen in preprocessed_documents:\r\n",
        "    j = 0\r\n",
        "    for compare_sen in preprocessed_documents:\r\n",
        "      if i > j:\r\n",
        "        wj = jaccard_similarity(base_sen,compare_sen)\r\n",
        "        list_weight_all.append(wj)\r\n",
        "        weights.append(wj)\r\n",
        "        list_doc1.append(i)\r\n",
        "        list_doc2.append(j)\r\n",
        "      j = j+1\r\n",
        "    i = i+1\r\n",
        "\r\n",
        "  return createDataset(list_doc1,list_doc2,weights), list_weight_all"
      ],
      "execution_count": 6,
      "outputs": []
    },
    {
      "cell_type": "markdown",
      "metadata": {
        "id": "2fwm6ZtqL5R8"
      },
      "source": [
        "## Shingles and MinHash implementation"
      ]
    },
    {
      "cell_type": "code",
      "metadata": {
        "id": "sBMjh12U1XLv"
      },
      "source": [
        "def docsShingles(documents):\r\n",
        "  docsID = []\r\n",
        "  docsShingleSets = {}\r\n",
        "  totalShingles = 0\r\n",
        "  \r\n",
        "  for doc in documents:\r\n",
        "    words = doc[1].split(\" \")\r\n",
        "    docID = doc[0]\r\n",
        "    docsID.append(docID)\r\n",
        "\r\n",
        "    docShingles = set()\r\n",
        "    \r\n",
        "    for index in range(0, len(words) - 2):\r\n",
        "      shingle = pre_processing(words[index]) + \" \" + pre_processing(words[index + 1]) + \" \" + pre_processing(words[index + 2])\r\n",
        "      shingle = str.encode(shingle)\r\n",
        "      crc = binascii.crc32(shingle) & 0xffffffff\r\n",
        "      docShingles.add(crc)\r\n",
        "    \r\n",
        "    docsShingleSets[docID] = docShingles\r\n",
        "    totalShingles = totalShingles + (len(words) - 2)\r\n",
        "  \r\n",
        "  return docsID, docsShingleSets, totalShingles"
      ],
      "execution_count": 7,
      "outputs": []
    },
    {
      "cell_type": "code",
      "metadata": {
        "id": "CLhaY8heN7uC"
      },
      "source": [
        "def pickRandomCoeffs(k, maxShingleID):\r\n",
        "  randList = []\r\n",
        "  \r\n",
        "  while k > 0:\r\n",
        "    randIndex = random.randint(0, maxShingleID) \r\n",
        "\r\n",
        "    while randIndex in randList:\r\n",
        "      randIndex = random.randint(0, maxShingleID) \r\n",
        "\r\n",
        "    randList.append(randIndex)\r\n",
        "    k = k - 1\r\n",
        "    \r\n",
        "  return randList"
      ],
      "execution_count": 8,
      "outputs": []
    },
    {
      "cell_type": "code",
      "metadata": {
        "id": "oTycPIzpOTr1"
      },
      "source": [
        "def minHash(numHashes):\r\n",
        "  \r\n",
        "  maxShingleID = 2**32-1\r\n",
        "  nextPrime = 4294967311 # Next prime number to maxShingleID\r\n",
        "\r\n",
        "  coeffA = pickRandomCoeffs(numHashes, maxShingleID)\r\n",
        "  coeffB = pickRandomCoeffs(numHashes, maxShingleID)\r\n",
        "\r\n",
        "  signatures = []\r\n",
        "\r\n",
        "  for docID in docsID:\r\n",
        "    shingleSet = docsShingleSets[docID]\r\n",
        "    signature = []\r\n",
        "\r\n",
        "    for i in range(0, numHashes):\r\n",
        "      minHashCode = nextPrime + 1\r\n",
        "    \r\n",
        "      for shingleID in shingleSet:\r\n",
        "        hashCode = (coeffA[i] * shingleID + coeffB[i]) % nextPrime \r\n",
        "      \r\n",
        "        if hashCode < minHashCode:\r\n",
        "          minHashCode = hashCode\r\n",
        "\r\n",
        "      signature.append(minHashCode)\r\n",
        "    \r\n",
        "    signatures.append(signature)\r\n",
        "  \r\n",
        "  return signatures"
      ],
      "execution_count": 9,
      "outputs": []
    },
    {
      "cell_type": "markdown",
      "metadata": {
        "id": "DABdkEXzOB2w"
      },
      "source": [
        "## LSH implementation"
      ]
    },
    {
      "cell_type": "code",
      "metadata": {
        "id": "t1qV3vIaRVd4"
      },
      "source": [
        "def similarDocs(signatures,r,b):\r\n",
        "  lsh = []\r\n",
        "  len(signatures)\r\n",
        "  for s in range(len(signatures)):\r\n",
        "      sig = signatures[s]\r\n",
        "      for i, band in enumerate(range(b)):\r\n",
        "          lsh.append(hash(tuple(sig[i*r:i*r+r])))\r\n",
        "\r\n",
        "  lsh_arr = np.array(lsh).reshape(L,b) # convert lsh from a list to a array of shape n-by-b  \r\n",
        "  hashmap = [defaultdict(list) for i in range(b)]\r\n",
        "\r\n",
        "  for j in range(b):\r\n",
        "      lsh_b = lsh_arr[:,j]\r\n",
        "      n = lsh_arr.shape[0]\r\n",
        "      for i in range(n):\r\n",
        "          hashmap[j][lsh_b[i]].append(i) \r\n",
        "  \r\n",
        "  return hashmap"
      ],
      "execution_count": 10,
      "outputs": []
    },
    {
      "cell_type": "code",
      "metadata": {
        "id": "5ufBW1VeSnhA"
      },
      "source": [
        "def createListCandidates(hashmap):\r\n",
        "  list_candidate = []\r\n",
        "  \r\n",
        "  for key in hashmap[0]:\r\n",
        "    list_key = hashmap[0][key]\r\n",
        "    \r\n",
        "    if len(list_key) > 1:\r\n",
        "      list_app = list_key\r\n",
        "      \r\n",
        "      while len(list_app) > 1:\r\n",
        "        first = list_app[0]\r\n",
        "        list_app.pop(0)\r\n",
        "        \r\n",
        "        for i in list_app:\r\n",
        "          app = []\r\n",
        "          app.append(first)\r\n",
        "          app.append(i)\r\n",
        "          app.sort()\r\n",
        "          list_candidate.append(app)\r\n",
        "  \r\n",
        "  return list_candidate"
      ],
      "execution_count": 11,
      "outputs": []
    },
    {
      "cell_type": "markdown",
      "metadata": {
        "id": "cXGL04FfdpBQ"
      },
      "source": [
        "## Main"
      ]
    },
    {
      "cell_type": "code",
      "metadata": {
        "id": "c2PJBp1TdoX-"
      },
      "source": [
        "dataFile = \"news_articles_small.csv\" \r\n",
        "documents = openDataset(dataFile)"
      ],
      "execution_count": null,
      "outputs": []
    },
    {
      "cell_type": "code",
      "metadata": {
        "id": "P90CXbnUdwPL",
        "colab": {
          "base_uri": "https://localhost:8080/",
          "height": 295
        },
        "outputId": "06d5f803-520e-4919-e69c-6d9d6db46e31"
      },
      "source": [
        "preprocessed_documents = shinglesDoc(documents)\r\n",
        "jaccardGT, list_weight_all = doc_jaccard(preprocessed_documents)\r\n",
        "dataframe_plagiared_gt = jaccardGT.loc[(jaccardGT[\"Value\"] > 0.8)]\r\n",
        "plotValues(list_weight_all)"
      ],
      "execution_count": null,
      "outputs": [
        {
          "output_type": "display_data",
          "data": {
            "image/png": "[encoded data removed]",
            "text/plain": [
              "<Figure size 432x288 with 1 Axes>"
            ]
          },
          "metadata": {
            "tags": [],
            "needs_background": "light"
          }
        }
      ]
    },
    {
      "cell_type": "code",
      "metadata": {
        "colab": {
          "base_uri": "https://localhost:8080/",
          "height": 363
        },
        "id": "iUdb-EbumRMD",
        "outputId": "2e755655-f3ac-4037-c6ac-f8883493e520"
      },
      "source": [
        "dataframe_plagiared_gt"
      ],
      "execution_count": null,
      "outputs": [
        {
          "output_type": "execute_result",
          "data": {
            "text/html": [
              "<div>\n",
              "<style scoped>\n",
              "    .dataframe tbody tr th:only-of-type {\n",
              "        vertical-align: middle;\n",
              "    }\n",
              "\n",
              "    .dataframe tbody tr th {\n",
              "        vertical-align: top;\n",
              "    }\n",
              "\n",
              "    .dataframe thead th {\n",
              "        text-align: right;\n",
              "    }\n",
              "</style>\n",
              "<table border=\"1\" class=\"dataframe\">\n",
              "  <thead>\n",
              "    <tr style=\"text-align: right;\">\n",
              "      <th></th>\n",
              "      <th>Doc1</th>\n",
              "      <th>Doc2</th>\n",
              "      <th>Value</th>\n",
              "    </tr>\n",
              "  </thead>\n",
              "  <tbody>\n",
              "    <tr>\n",
              "      <th>21013</th>\n",
              "      <td>205</td>\n",
              "      <td>103</td>\n",
              "      <td>0.979757</td>\n",
              "    </tr>\n",
              "    <tr>\n",
              "      <th>69576</th>\n",
              "      <td>373</td>\n",
              "      <td>198</td>\n",
              "      <td>0.979920</td>\n",
              "    </tr>\n",
              "    <tr>\n",
              "      <th>115111</th>\n",
              "      <td>480</td>\n",
              "      <td>151</td>\n",
              "      <td>0.980769</td>\n",
              "    </tr>\n",
              "    <tr>\n",
              "      <th>136625</th>\n",
              "      <td>523</td>\n",
              "      <td>122</td>\n",
              "      <td>0.981413</td>\n",
              "    </tr>\n",
              "    <tr>\n",
              "      <th>147893</th>\n",
              "      <td>544</td>\n",
              "      <td>197</td>\n",
              "      <td>0.980620</td>\n",
              "    </tr>\n",
              "    <tr>\n",
              "      <th>278174</th>\n",
              "      <td>746</td>\n",
              "      <td>289</td>\n",
              "      <td>0.982206</td>\n",
              "    </tr>\n",
              "    <tr>\n",
              "      <th>299523</th>\n",
              "      <td>774</td>\n",
              "      <td>372</td>\n",
              "      <td>0.981752</td>\n",
              "    </tr>\n",
              "    <tr>\n",
              "      <th>321533</th>\n",
              "      <td>802</td>\n",
              "      <td>332</td>\n",
              "      <td>0.977679</td>\n",
              "    </tr>\n",
              "    <tr>\n",
              "      <th>387024</th>\n",
              "      <td>880</td>\n",
              "      <td>264</td>\n",
              "      <td>0.981413</td>\n",
              "    </tr>\n",
              "    <tr>\n",
              "      <th>421185</th>\n",
              "      <td>918</td>\n",
              "      <td>282</td>\n",
              "      <td>0.983051</td>\n",
              "    </tr>\n",
              "  </tbody>\n",
              "</table>\n",
              "</div>"
            ],
            "text/plain": [
              "        Doc1  Doc2     Value\n",
              "21013    205   103  0.979757\n",
              "69576    373   198  0.979920\n",
              "115111   480   151  0.980769\n",
              "136625   523   122  0.981413\n",
              "147893   544   197  0.980620\n",
              "278174   746   289  0.982206\n",
              "299523   774   372  0.981752\n",
              "321533   802   332  0.977679\n",
              "387024   880   264  0.981413\n",
              "421185   918   282  0.983051"
            ]
          },
          "metadata": {
            "tags": []
          },
          "execution_count": 15
        }
      ]
    },
    {
      "cell_type": "code",
      "metadata": {
        "id": "PMO8m-d9d8pz"
      },
      "source": [
        "docsID, docsShingleSets, totalShingles = docsShingles(documents)\r\n",
        "L = 1000"
      ],
      "execution_count": null,
      "outputs": []
    },
    {
      "cell_type": "code",
      "metadata": {
        "id": "AnaxpZd7eQ-p"
      },
      "source": [
        "# Function that computes LSH on the documents of the small dataset\r\n",
        "def run(numHashes, r_list, b_list):\r\n",
        "  signatures = minHash(numHashes)\r\n",
        "  tp_l=[]\r\n",
        "  fp_l=[]\r\n",
        "  fn_l=[]\r\n",
        "  t_l=[]\r\n",
        "  \r\n",
        "  for i in range(0,len(r_list)):\r\n",
        "  \r\n",
        "    r = r_list[i] # Number of rows in each band\r\n",
        "    b = b_list[i] # Number of bands\r\n",
        "    t = (1. / b) ** (1. / r) # Threshold  value\r\n",
        "\r\n",
        "    print(\"Case:\", i)\r\n",
        "    print(\"b:\", b)\r\n",
        "    print(\"r:\", r)\r\n",
        "    print(\"t:\", t, \"\\n\")\r\n",
        "\r\n",
        "    hashmap = similarDocs(signatures,r,b)\r\n",
        "    list_candidate = createListCandidates(hashmap)\r\n",
        "    \r\n",
        "    dataframe_plagiared = pd.DataFrame.from_records(list_candidate)\r\n",
        "    dataframe_plagiared = dataframe_plagiared.rename(columns = {1: 'Doc1', 0:'Doc2'})\r\n",
        "    \r\n",
        "    tp = pd.merge(dataframe_plagiared, dataframe_plagiared_gt, how='inner', on=['Doc1',\"Doc2\"])\r\n",
        "    tp_len = len(tp)\r\n",
        "    \r\n",
        "    fp = pd.merge(dataframe_plagiared, dataframe_plagiared_gt, on=['Doc1','Doc2'],how='left',indicator=\"Exist\")\r\n",
        "    fp = fp.loc[fp['Exist'] == \"left_only\" ]\r\n",
        "    fp_len = len(fp)\r\n",
        "    \r\n",
        "    fn = pd.merge(dataframe_plagiared_gt,dataframe_plagiared, on=['Doc1','Doc2'],how='left',indicator=\"Exist\")\r\n",
        "    fn = fn.loc[fn['Exist'] == \"left_only\" ]\r\n",
        "    fn_len = len(fn)\r\n",
        "\r\n",
        "    tp_l.append(tp_len)\r\n",
        "    fp_l.append(fp_len)\r\n",
        "    fn_l.append(fn_len)\r\n",
        "    t_l.append(t)\r\n",
        "\r\n",
        "  print(tp_l)\r\n",
        "  print(fp_l)\r\n",
        "  print(fn_l)\r\n",
        "  print(\"\\n\")"
      ],
      "execution_count": null,
      "outputs": []
    },
    {
      "cell_type": "markdown",
      "metadata": {
        "id": "82eYECF6fdS3"
      },
      "source": [
        "##Experiments"
      ]
    },
    {
      "cell_type": "code",
      "metadata": {
        "id": "EavAeAr_fcK1"
      },
      "source": [
        "def plotExperiments(numHash, r, b):\r\n",
        "  fig, ax1 = plt.subplots()\r\n",
        "  x = np.linspace(0,1,100)\r\n",
        "\r\n",
        "  y1 = 1-(1-x**r[0])**b[0]\r\n",
        "  y2 = 1-(1-x**r[1])**b[1]\r\n",
        "  y3 = 1-(1-x**r[2])**b[2]\r\n",
        "  y4 = 1-(1-x**r[3])**b[3]\r\n",
        "  y5 = 1-(1-x**r[4])**b[4]\r\n",
        "  y6 = 1-(1-x**r[5])**b[5]\r\n",
        "  \r\n",
        "  color = 'tab:blue'\r\n",
        "  \r\n",
        "  plt.yscale('log', nonposy = 'clip')\r\n",
        "  plt.title('Number of documents in function of their similarity with each other')\r\n",
        "  plt.xlabel('Similarty between documents')\r\n",
        "  plt.ylabel('Number of documents')\r\n",
        "  \r\n",
        "  ax1.hist(list_weight_all, bins = [0,0.10,0.20,0.30,0.4,0.5,0.6,0.7,0.8,0.9,1])\r\n",
        "  ax1.tick_params(axis='y', labelcolor=color)\r\n",
        "  ax2 = ax1.twinx()\r\n",
        "\r\n",
        "  color = 'tab:red'\r\n",
        "  \r\n",
        "  ax2.set_ylabel('Probability', color=color) \r\n",
        "\r\n",
        "  lab1 = \"b: \" + str(b[0]) + \" r: \" + str(r[0])\r\n",
        "  lab2 = \"b: \" + str(b[1]) + \" r: \" + str(r[1])\r\n",
        "  lab3 = \"b: \" + str(b[2]) + \" r: \" + str(r[2])\r\n",
        "  lab4 = \"b: \" + str(b[3]) + \" r: \" + str(r[3])\r\n",
        "  lab5 = \"b: \" + str(b[4]) + \" r: \" + str(r[4])\r\n",
        "  lab6 = \"b: \" + str(b[5]) + \" r: \" + str(r[5])\r\n",
        "\r\n",
        "  ax2.plot(x,y1,label = lab1)\r\n",
        "  ax2.plot(x,y2,label = lab2)\r\n",
        "  ax2.plot(x,y3,label = lab3)\r\n",
        "  ax2.plot(x,y4,label = lab4)\r\n",
        "  ax2.plot(x,y5,label = lab5)\r\n",
        "  ax2.plot(x,y6,label = lab6)\r\n",
        "  plt.ylim(ymin=0)\r\n",
        "  ax2.tick_params(axis='y', labelcolor=color)\r\n",
        "\r\n",
        "  plt.legend(bbox_to_anchor=(1, 0.5), loc=\"center left\")\r\n",
        "\r\n",
        "  fig.tight_layout() \r\n",
        "  plt.show()"
      ],
      "execution_count": null,
      "outputs": []
    },
    {
      "cell_type": "code",
      "metadata": {
        "id": "WQCn07BDE_Zp"
      },
      "source": [
        "# Function that calculates the value of p2 with threshold s2 = 0.8\r\n",
        "def print_prob(numHashes, r, b):\r\n",
        "  y1 = 1-(1-(0.8**r[0]))**b[0]\r\n",
        "  y2 = 1-(1-(0.8**r[1]))**b[1]\r\n",
        "  y3 = 1-(1-(0.8**r[2]))**b[2]\r\n",
        "  y4 = 1-(1-(0.8**r[3]))**b[3]\r\n",
        "  y5 = 1-(1-(0.8**r[4]))**b[4]\r\n",
        "  y6 = 1-(1-(0.8**r[5]))**b[5]\r\n",
        "\r\n",
        "  print(\"num. of hash: \" + str(numHashes))\r\n",
        "  print(\"b: \" + str(b[0]) + \" r: \" + str(r[0]) + \" prob.: \" + str(y1))\r\n",
        "  print(\"b: \" + str(b[1]) + \" r: \" + str(r[1]) + \" prob.: \" + str(y2))\r\n",
        "  print(\"b: \" + str(b[2]) + \" r: \" + str(r[2]) + \" prob.: \" + str(y3))\r\n",
        "  print(\"b: \" + str(b[3]) + \" r: \" + str(r[3]) + \" prob.: \" + str(y4))\r\n",
        "  print(\"b: \" + str(b[4]) + \" r: \" + str(r[4]) + \" prob.: \" + str(y5))\r\n",
        "  print(\"b: \" + str(b[5]) + \" r: \" + str(r[5]) + \" prob.: \" + str(y6))\r\n",
        "\r\n",
        "# Function that calculates the value of p1 with threshold s2 = 0.5, 0.6 and 0.7\r\n",
        "def print_prob_p1(numHashes, r, b, p1):\r\n",
        "  y1 = 1-(1-(p1**r[0]))**b[0]\r\n",
        "  y2 = 1-(1-(p1**r[1]))**b[1]\r\n",
        "  y3 = 1-(1-(p1**r[2]))**b[2]\r\n",
        "  y4 = 1-(1-(p1**r[3]))**b[3]\r\n",
        "  y5 = 1-(1-(p1**r[4]))**b[4]\r\n",
        "\r\n",
        "  print(\"Probability: \" + str(p1))\r\n",
        "  print(\"num. of hash: \" + str(numHashes[0]))\r\n",
        "  print(\"b: \" + str(b[0]) + \" r: \" + str(r[0]) + \" prob.: \" + str(y1))\r\n",
        "  print(\"num. of hash: \" + str(numHashes[1]))\r\n",
        "  print(\"b: \" + str(b[1]) + \" r: \" + str(r[1]) + \" prob.: \" + str(y2))\r\n",
        "  print(\"num. of hash: \" + str(numHashes[2]))\r\n",
        "  print(\"b: \" + str(b[2]) + \" r: \" + str(r[2]) + \" prob.: \" + str(y3))\r\n",
        "  print(\"num. of hash: \" + str(numHashes[3]))\r\n",
        "  print(\"b: \" + str(b[3]) + \" r: \" + str(r[3]) + \" prob.: \" + str(y4))\r\n",
        "  print(\"num. of hash: \" + str(numHashes[4]))\r\n",
        "  print(\"b: \" + str(b[4]) + \" r: \" + str(r[4]) + \" prob.: \" + str(y5))"
      ],
      "execution_count": null,
      "outputs": []
    },
    {
      "cell_type": "code",
      "metadata": {
        "id": "Y5avHK1meIGR"
      },
      "source": [
        "# First case with 20 hash functions\r\n",
        "numHashes = 20\r\n",
        "r_list = [5,4,2,1,10,20]\r\n",
        "b_list = [4,5,10,20,2,1]\r\n",
        "\r\n",
        "run(numHashes, r_list, b_list)\r\n",
        "plotExperiments(numHashes, r_list, b_list)\r\n",
        "print_prob(numHashes, r_list, b_list)"
      ],
      "execution_count": null,
      "outputs": []
    },
    {
      "cell_type": "code",
      "metadata": {
        "id": "xizqigPel__n"
      },
      "source": [
        "# Second case with 24 hash functions\r\n",
        "numHashes = 24\r\n",
        "r_list = [4,6,12,2,24,1]\r\n",
        "b_list = [6,4,2,12,1,24]\r\n",
        "\r\n",
        "run(numHashes, r_list, b_list)\r\n",
        "plotExperiments(numHashes, r_list, b_list)\r\n",
        "print_prob(numHashes, r_list, b_list)"
      ],
      "execution_count": null,
      "outputs": []
    },
    {
      "cell_type": "code",
      "metadata": {
        "id": "RmYD8nMUmAHo"
      },
      "source": [
        "# Third case with 30 hash functions\r\n",
        "numHashes = 30\r\n",
        "r_list = [5,6,3,1,10,30]\r\n",
        "b_list = [6,5,10,30,3,1]\r\n",
        "\r\n",
        "run(numHashes, r_list, b_list)\r\n",
        "plotExperiments(numHashes, r_list, b_list)\r\n",
        "print_prob(numHashes, r_list, b_list)"
      ],
      "execution_count": null,
      "outputs": []
    },
    {
      "cell_type": "code",
      "metadata": {
        "id": "x3EhMwZvmARD"
      },
      "source": [
        "# Fourth case with 36 hash functions\r\n",
        "numHashes = 36\r\n",
        "r_list = [4,9,2,1,18,36]\r\n",
        "b_list = [9,4,18,36,2,1]\r\n",
        "\r\n",
        "run(numHashes, r_list, b_list)\r\n",
        "plotExperiments(numHashes, r_list, b_list)\r\n",
        "print_prob(numHashes, r_list, b_list)"
      ],
      "execution_count": null,
      "outputs": []
    },
    {
      "cell_type": "code",
      "metadata": {
        "id": "CYIVp56TmAYM"
      },
      "source": [
        "# Fifth case with 40 hash functions\r\n",
        "numHashes = 40\r\n",
        "r_list = [5,8,4,1,10,40]\r\n",
        "b_list = [8,5,10,40,4,1]\r\n",
        "\r\n",
        "run(numHashes, r_list, b_list)\r\n",
        "plotExperiments(numHashes, r_list, b_list)\r\n",
        "print_prob(numHashes, r_list, b_list)"
      ],
      "execution_count": null,
      "outputs": []
    },
    {
      "cell_type": "code",
      "metadata": {
        "id": "TKHiNYpcQanF"
      },
      "source": [
        "# Tests of the best lower bound for the tollerance zone with the best results computed \r\n",
        "numHashes = [20,24,30,36,40]\r\n",
        "b_list = [5,4,6,9,8]\r\n",
        "r_list = [4,6,5,4,5]\r\n",
        "\r\n",
        "p1 = 0.70\r\n",
        "print_prob_p1(numHashes, r_list, b_list, p1)\r\n",
        "print(\"---\")\r\n",
        "p1 = 0.60\r\n",
        "print_prob_p1(numHashes, r_list, b_list, p1)\r\n",
        "print(\"---\")\r\n",
        "p1 = 0.50\r\n",
        "print_prob_p1(numHashes, r_list, b_list, p1)"
      ],
      "execution_count": null,
      "outputs": []
    },
    {
      "cell_type": "code",
      "metadata": {
        "colab": {
          "base_uri": "https://localhost:8080/",
          "height": 297
        },
        "id": "NGp2awSvmsLM",
        "outputId": "8c4ccb46-3cee-4078-d46a-cef4a5ca43ee"
      },
      "source": [
        "# Printing final graph with the best results\r\n",
        "fig, ax1 = plt.subplots()\r\n",
        "x = np.linspace(0,1,100)\r\n",
        "\r\n",
        "y1 = 1-(1-x**5)**8\r\n",
        "\r\n",
        "color = 'tab:blue'\r\n",
        "  \r\n",
        "plt.yscale('log', nonposy = 'clip')\r\n",
        "plt.title('Number of documents in function of their similarity with each other')\r\n",
        "plt.xlabel('Similarty between documents')\r\n",
        "plt.ylabel('Number of documents')\r\n",
        "  \r\n",
        "ax1.hist(list_weight_all, bins = [0,0.10,0.20,0.30,0.4,0.5,0.6,0.7,0.8,0.9,1])\r\n",
        "ax1.tick_params(axis='y', labelcolor=color)\r\n",
        "ax2 = ax1.twinx()  \r\n",
        "\r\n",
        "color = 'tab:red'\r\n",
        "\r\n",
        "ax2.set_ylabel('Probability', color=color) \r\n",
        "\r\n",
        "lab1 = \"b: 8 r: 5\"\r\n",
        "ax2.plot(x,y1,label = lab1)\r\n",
        "\r\n",
        "plt.ylim(ymin=0)\r\n",
        "ax2.tick_params(axis='y', labelcolor=color)\r\n",
        "\r\n",
        "plt.legend(bbox_to_anchor=(1, 0.5), loc=\"center left\")\r\n",
        "\r\n",
        "fig.tight_layout()  \r\n",
        "plt.show()"
      ],
      "execution_count": null,
      "outputs": [
        {
          "output_type": "display_data",
          "data": {
            "image/png": "[encoded data removed]",
            "text/plain": [
              "<Figure size 432x288 with 2 Axes>"
            ]
          },
          "metadata": {
            "tags": [],
            "needs_background": "light"
          }
        }
      ]
    },
    {
      "cell_type": "markdown",
      "metadata": {
        "id": "UG7v-oIghr-S"
      },
      "source": [
        "## Big dataset"
      ]
    },
    {
      "cell_type": "code",
      "metadata": {
        "id": "ZFh5y4LkEXdh"
      },
      "source": [
        "# Custom function that calculates LSH on the big dataset with the best parameters found\r\n",
        "def run_large(numHashes, r_list, b_list):\r\n",
        "  signatures = minHash(numHashes)\r\n",
        "  tp_l=[]\r\n",
        "  fp_l=[]\r\n",
        "  fn_l=[]\r\n",
        "  t_l=[]\r\n",
        "  \r\n",
        "  for i in range(0,len(r_list)):\r\n",
        "    r = r_list[i]\r\n",
        "    b = b_list[i]\r\n",
        "    t = (1. / b) ** (1. / r)\r\n",
        "\r\n",
        "    print(\"Best Case\")\r\n",
        "    print(\"r:\", r)\r\n",
        "    print(\"b:\", b)\r\n",
        "    print(\"t:\", t, \"\\n\")\r\n",
        "\r\n",
        "    hashmap = similarDocs(signatures,r,b)\r\n",
        "    list_candidate = createListCandidates(hashmap)\r\n",
        "  \r\n",
        "  return list_candidate"
      ],
      "execution_count": 12,
      "outputs": []
    },
    {
      "cell_type": "code",
      "metadata": {
        "id": "pQL_WcIVcCb9"
      },
      "source": [
        "dataFile = \"news_articles_large.csv\" \r\n",
        "documents = openDataset(dataFile)"
      ],
      "execution_count": 19,
      "outputs": []
    },
    {
      "cell_type": "code",
      "metadata": {
        "id": "F-A9kIPzcNht"
      },
      "source": [
        "docsID, docsShingleSets, totalShingles = docsShingles(documents)\r\n",
        "L = 10000 "
      ],
      "execution_count": 20,
      "outputs": []
    },
    {
      "cell_type": "code",
      "metadata": {
        "id": "MJCejukWFM9x"
      },
      "source": [
        "numHashes = 40\r\n",
        "b_list = [8]\r\n",
        "r_list = [5]\r\n",
        "list_candidate=run_large(numHashes,r_list,b_list)"
      ],
      "execution_count": null,
      "outputs": []
    },
    {
      "cell_type": "code",
      "metadata": {
        "id": "z70tTtDlHAAN"
      },
      "source": [
        "list_doc0=[]\r\n",
        "list_doc1=[]\r\n",
        "\r\n",
        "# Function that computes the Jaccard similarity only on the candidate pairs and takes the documents only with similarity > 0.8\r\n",
        "for i in list_candidate:\r\n",
        "  doc0 = documents[i[0]][1]\r\n",
        "  doc1 = documents[i[1]][1]\r\n",
        "  tokenize = lambda doc: doc.lower().split(\" \")\r\n",
        "  doc0_shingled = get_tuples_nosentences(doc0)\r\n",
        "  doc1_shingled = get_tuples_nosentences(doc1)\r\n",
        "  jaccard = jaccard_similarity(doc0_shingled,doc1_shingled)\r\n",
        "\r\n",
        "  if jaccard > 0.8:\r\n",
        "    list_doc0.append(i[0])\r\n",
        "    list_doc1.append(i[1])"
      ],
      "execution_count": 22,
      "outputs": []
    },
    {
      "cell_type": "code",
      "metadata": {
        "id": "Fj0BLgZa2vtK"
      },
      "source": [
        "# Save the documents found into a csv file\r\n",
        "pair_doc=pd.DataFrame(columns = ['doc_id1','doc_id2'])\r\n",
        "pair_doc[\"doc_id1\"] = list_doc0\r\n",
        "pair_doc[\"doc_id2\"] = list_doc1\r\n",
        "pair_doc.to_csv(\"result.csv\",index = False)"
      ],
      "execution_count": 23,
      "outputs": []
    }
  ]
}